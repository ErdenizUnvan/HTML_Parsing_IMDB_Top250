{
 "cells": [
  {
   "cell_type": "code",
   "execution_count": null,
   "id": "0b6e8e92",
   "metadata": {},
   "outputs": [],
   "source": [
    "#top250 movie list\n",
    "#name of the movies\n",
    "#year of the movies\n",
    "#point of the movies"
   ]
  },
  {
   "cell_type": "code",
   "execution_count": null,
   "id": "67d2a268",
   "metadata": {},
   "outputs": [],
   "source": [
    "import requests"
   ]
  },
  {
   "cell_type": "code",
   "execution_count": null,
   "id": "4c17086c",
   "metadata": {},
   "outputs": [],
   "source": [
    "#pip install requests\n",
    "import requests\n",
    "import urllib3\n",
    "urllib3.disable_warnings(urllib3.exceptions.InsecureRequestWarning)\n",
    "url='https://www.imdb.com/chart/top/?ref_=nv_mv_250'\n",
    "response=requests.get(url,verify=False)\n",
    "response.text"
   ]
  },
  {
   "cell_type": "markdown",
   "id": "8178e9c5",
   "metadata": {},
   "source": [
    "#pip install requests\n",
    "import requests\n",
    "import urllib3\n",
    "urllib3.disable_warnings(urllib3.exceptions.InsecureRequestWarning)\n",
    "url='https://www.imdb.com/chart/top/?ref_=nv_mv_250'\n",
    "mysession=requests.session()\n",
    "mysession.verify=False\n",
    "#timeout=requests.Timeout(150)\n",
    "response=mysession.get(url)\n",
    "response.text"
   ]
  },
  {
   "cell_type": "code",
   "execution_count": null,
   "id": "301de22d",
   "metadata": {},
   "outputs": [],
   "source": [
    "!pip install bs4"
   ]
  },
  {
   "cell_type": "code",
   "execution_count": null,
   "id": "2f3149f1",
   "metadata": {},
   "outputs": [],
   "source": [
    "from bs4 import BeautifulSoup"
   ]
  },
  {
   "cell_type": "code",
   "execution_count": null,
   "id": "dc40fde0",
   "metadata": {},
   "outputs": [],
   "source": [
    "soup = BeautifulSoup(response.content,'html.parser')\n",
    "soup"
   ]
  },
  {
   "cell_type": "code",
   "execution_count": null,
   "id": "65dc464e",
   "metadata": {},
   "outputs": [],
   "source": [
    "#<td class=\"titleColumn\">"
   ]
  },
  {
   "cell_type": "code",
   "execution_count": null,
   "id": "aec1a375",
   "metadata": {},
   "outputs": [],
   "source": [
    "movies = soup.find_all('td', {\"class\":\"titleColumn\"})\n",
    "movies"
   ]
  },
  {
   "cell_type": "code",
   "execution_count": null,
   "id": "0feec43e",
   "metadata": {},
   "outputs": [],
   "source": [
    "for movie in movies:\n",
    "    #print(movie)\n",
    "    print(movie.get_text().strip())"
   ]
  },
  {
   "cell_type": "code",
   "execution_count": null,
   "id": "9bddcbaa",
   "metadata": {},
   "outputs": [],
   "source": [
    "movie_names=[]\n",
    "movie_years=[]\n",
    "\n",
    "for movie in movies:\n",
    "    #print(movie)\n",
    "    #print(movie.get_text().split('\\n'))\n",
    "    #print(movie.get_text().split('\\n')[0]) #\n",
    "    #print(movie.get_text().split('\\n')[1]) # \n",
    "    #print(movie.get_text().split('\\n')[2]) # name of the movies\n",
    "    #print(movie.get_text().split('\\n')[3]) # year of the movies\n",
    "    #print(movie.get_text().split('\\n')[4]) # \n",
    "    movie_names.append(movie.get_text().split('\\n')[2].strip())\n",
    "    movie_years.append(movie.get_text().split('\\n')[3])"
   ]
  },
  {
   "cell_type": "code",
   "execution_count": null,
   "id": "ffb2e8fa",
   "metadata": {},
   "outputs": [],
   "source": [
    "len(movie_years)"
   ]
  },
  {
   "cell_type": "code",
   "execution_count": null,
   "id": "e94e5ff2",
   "metadata": {},
   "outputs": [],
   "source": [
    "len(movie_names)"
   ]
  },
  {
   "cell_type": "code",
   "execution_count": null,
   "id": "db1fdbfb",
   "metadata": {},
   "outputs": [],
   "source": [
    "#top250 movie list\n",
    "#name of the movies : OK\n",
    "#year of the movies : OK\n",
    "#point of the movies"
   ]
  },
  {
   "cell_type": "code",
   "execution_count": null,
   "id": "ae85fb73",
   "metadata": {},
   "outputs": [],
   "source": [
    "#<td class=\"ratingColumn imdbRating\">"
   ]
  },
  {
   "cell_type": "code",
   "execution_count": null,
   "id": "e1b7fecc",
   "metadata": {},
   "outputs": [],
   "source": [
    "rating = soup.find_all('td',{\"class\":\"ratingColumn imdbRating\"})\n",
    "rating"
   ]
  },
  {
   "cell_type": "code",
   "execution_count": null,
   "id": "814ad5e6",
   "metadata": {},
   "outputs": [],
   "source": [
    "movie_points=[]\n",
    "for rate in rating:\n",
    "    #print(rate)\n",
    "    #print(rate.get_text().strip())\n",
    "    movie_points.append(float(rate.get_text().strip()))\n",
    "movie_points"
   ]
  },
  {
   "cell_type": "code",
   "execution_count": null,
   "id": "c26c0f1a",
   "metadata": {},
   "outputs": [],
   "source": [
    "years=[]\n",
    "for year in movie_years:\n",
    "    #print(yil)\n",
    "    year = year.replace('(','')\n",
    "    year = year.replace(')','')\n",
    "    years.append(int(year))\n",
    "print(type(years[0]))"
   ]
  },
  {
   "cell_type": "code",
   "execution_count": null,
   "id": "9693b930",
   "metadata": {},
   "outputs": [],
   "source": [
    "movie_names"
   ]
  },
  {
   "cell_type": "code",
   "execution_count": null,
   "id": "78432460",
   "metadata": {},
   "outputs": [],
   "source": [
    "years"
   ]
  },
  {
   "cell_type": "code",
   "execution_count": null,
   "id": "03a15bff",
   "metadata": {},
   "outputs": [],
   "source": [
    "print(type(movie_points[0]))"
   ]
  },
  {
   "cell_type": "code",
   "execution_count": null,
   "id": "f4ea7d13",
   "metadata": {},
   "outputs": [],
   "source": [
    "import pandas as pd"
   ]
  },
  {
   "cell_type": "code",
   "execution_count": null,
   "id": "bb46022f",
   "metadata": {},
   "outputs": [],
   "source": [
    "imdb= {'Name':movie_names,'Year':years,'Point':movie_points}\n",
    "len(imdb)"
   ]
  },
  {
   "cell_type": "code",
   "execution_count": null,
   "id": "12de8af2",
   "metadata": {},
   "outputs": [],
   "source": [
    "len(imdb['Name'])"
   ]
  },
  {
   "cell_type": "code",
   "execution_count": null,
   "id": "b998ff21",
   "metadata": {},
   "outputs": [],
   "source": [
    "len(imdb['Year'])"
   ]
  },
  {
   "cell_type": "code",
   "execution_count": null,
   "id": "bcff4cb0",
   "metadata": {},
   "outputs": [],
   "source": [
    "len(imdb['Point'])"
   ]
  },
  {
   "cell_type": "code",
   "execution_count": null,
   "id": "7cbd8b30",
   "metadata": {},
   "outputs": [],
   "source": [
    "df= pd.DataFrame(imdb)\n",
    "df"
   ]
  },
  {
   "cell_type": "code",
   "execution_count": null,
   "id": "94a9d3cd",
   "metadata": {},
   "outputs": [],
   "source": [
    "years_asc = df.sort_values('Year')\n",
    "years_asc"
   ]
  },
  {
   "cell_type": "code",
   "execution_count": null,
   "id": "364ab9bb",
   "metadata": {},
   "outputs": [],
   "source": [
    "years_desc = df.sort_values('Year',ascending=False)\n",
    "years_desc"
   ]
  },
  {
   "cell_type": "code",
   "execution_count": null,
   "id": "ab8752a9",
   "metadata": {},
   "outputs": [],
   "source": [
    "#<td class=\"ratingColumn imdbRating\">\n",
    "rating"
   ]
  },
  {
   "cell_type": "code",
   "execution_count": null,
   "id": "936e1777",
   "metadata": {},
   "outputs": [],
   "source": [
    "for movie in movies:\n",
    "    #print(movie)\n",
    "    print(movie.get_text().split('\\n'))"
   ]
  },
  {
   "cell_type": "code",
   "execution_count": null,
   "id": "b4f18e51",
   "metadata": {},
   "outputs": [],
   "source": [
    "movie_points"
   ]
  },
  {
   "cell_type": "code",
   "execution_count": null,
   "id": "732956ff",
   "metadata": {},
   "outputs": [],
   "source": [
    "Erdeniz=[18,19,20]\n",
    "Erdeniz"
   ]
  },
  {
   "cell_type": "code",
   "execution_count": null,
   "id": "97d0f70e",
   "metadata": {},
   "outputs": [],
   "source": [
    "Erdeniz,Erdem,Bahadir=[18,19,20]\n",
    "Bahadir"
   ]
  },
  {
   "cell_type": "code",
   "execution_count": null,
   "id": "b471db79",
   "metadata": {},
   "outputs": [],
   "source": [
    "Erdeniz,Erdem=[18,19]\n"
   ]
  },
  {
   "cell_type": "code",
   "execution_count": null,
   "id": "235d1012",
   "metadata": {},
   "outputs": [],
   "source": [
    "_,Erdem,_=[18,19,20]\n",
    "Erdem"
   ]
  },
  {
   "cell_type": "code",
   "execution_count": null,
   "id": "f7c60eda",
   "metadata": {},
   "outputs": [],
   "source": [
    "#<td class=\"titleColumn\">\n",
    "top250=[]\n",
    "i=0\n",
    "for movie in movies:\n",
    "    _,_,names,years,_ = movie.get_text().split('\\n')\n",
    "    top250.append({'TITLE':names.strip(),'YEAR':years,'POINTS':movie_points[i]})\n",
    "    i+=1\n",
    "len(top250)"
   ]
  },
  {
   "cell_type": "code",
   "execution_count": null,
   "id": "1e12075c",
   "metadata": {},
   "outputs": [],
   "source": [
    "top250[0]['POINTS']"
   ]
  },
  {
   "cell_type": "code",
   "execution_count": null,
   "id": "0cac816d",
   "metadata": {},
   "outputs": [],
   "source": [
    "top250[0]['TITLE']"
   ]
  },
  {
   "cell_type": "code",
   "execution_count": null,
   "id": "9790bff8",
   "metadata": {},
   "outputs": [],
   "source": [
    "#import io\n",
    "with open('IMDBTOP250.txt','w') as f:\n",
    "    for film in top250:\n",
    "        f.write('Movie Name: '+film['TITLE']+','+'Movie Year: '+film['YEAR']+','+'Movie Point: '+str(film['POINTS'])+'\\n')"
   ]
  },
  {
   "cell_type": "code",
   "execution_count": null,
   "id": "b8006113",
   "metadata": {},
   "outputs": [],
   "source": [
    "import io\n",
    "with open('IMDBTOP250.txt','w',encoding='utf-8') as f:\n",
    "    for film in top250:\n",
    "        f.write('Movie Name: '+film['TITLE']+','+'Movie Year: '+film['YEAR']+','+'Movie Point: '+str(film['POINTS'])+'\\n')"
   ]
  },
  {
   "cell_type": "code",
   "execution_count": null,
   "id": "eb0f6e72",
   "metadata": {},
   "outputs": [],
   "source": [
    "top250"
   ]
  },
  {
   "cell_type": "code",
   "execution_count": null,
   "id": "2b12c350",
   "metadata": {},
   "outputs": [],
   "source": [
    "import json"
   ]
  },
  {
   "cell_type": "code",
   "execution_count": null,
   "id": "caeee0f4",
   "metadata": {},
   "outputs": [],
   "source": [
    "with open('top250.json','w') as f:\n",
    "    f.write(json.dumps(top250))"
   ]
  },
  {
   "cell_type": "code",
   "execution_count": null,
   "id": "eee22c24",
   "metadata": {},
   "outputs": [],
   "source": []
  },
  {
   "cell_type": "code",
   "execution_count": null,
   "id": "3d44025b",
   "metadata": {},
   "outputs": [],
   "source": []
  },
  {
   "cell_type": "code",
   "execution_count": null,
   "id": "cce7eddd",
   "metadata": {},
   "outputs": [],
   "source": []
  },
  {
   "cell_type": "code",
   "execution_count": null,
   "id": "655c9db6",
   "metadata": {},
   "outputs": [],
   "source": []
  }
 ],
 "metadata": {
  "kernelspec": {
   "display_name": "Python 3 (ipykernel)",
   "language": "python",
   "name": "python3"
  },
  "language_info": {
   "codemirror_mode": {
    "name": "ipython",
    "version": 3
   },
   "file_extension": ".py",
   "mimetype": "text/x-python",
   "name": "python",
   "nbconvert_exporter": "python",
   "pygments_lexer": "ipython3",
   "version": "3.9.7"
  }
 },
 "nbformat": 4,
 "nbformat_minor": 5
}
